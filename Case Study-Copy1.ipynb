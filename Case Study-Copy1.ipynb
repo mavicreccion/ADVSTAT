{
 "cells": [
  {
   "cell_type": "code",
   "execution_count": 72,
   "metadata": {
    "collapsed": true
   },
   "outputs": [],
   "source": [
    "### IMPORTS\n",
    "\n",
    "%matplotlib inline\n",
    "from scipy.stats import norm\n",
    "import matplotlib\n",
    "import matplotlib.pyplot as plt\n",
    "from scipy.stats import gaussian_kde\n",
    "import numpy as np\n",
    "\n",
    "#set font size of plots to 22\n",
    "matplotlib.rcParams.update({\"font.size\":22})"
   ]
  },
  {
   "cell_type": "code",
   "execution_count": 73,
   "metadata": {
    "collapsed": true
   },
   "outputs": [],
   "source": [
    "N = 101\n",
    "hypothesis = range(0, N)\n",
    "SANTUGON = 0\n",
    "TAPAT = 1\n",
    "data0 = [SANTUGON] * 110\n",
    "data1 = [TAPAT] * 132\n",
    "data = data0 + data1"
   ]
  },
  {
   "cell_type": "code",
   "execution_count": 74,
   "metadata": {},
   "outputs": [],
   "source": [
    "# Our priors will be uniformly distributed:\n",
    "def initPriors(hypothesis):\n",
    "    pH = []\n",
    "    \n",
    "    # get pH\n",
    "    for h in hypothesis:\n",
    "        pH.append(1/len(hypothesis))\n",
    "    return pH     # set each prior to a uniform value\n",
    "\n",
    "prior = initPriors(hypothesis)"
   ]
  },
  {
   "cell_type": "code",
   "execution_count": 75,
   "metadata": {
    "collapsed": true
   },
   "outputs": [],
   "source": [
    "def likelihood(data, hypothesis):\n",
    "    \n",
    "    pDH = []\n",
    "    for h in hypothesis:\n",
    "        if(data == TAPAT):\n",
    "            pDH.append(h/100)\n",
    "        else:\n",
    "            pDH.append((1 - h/100))\n",
    "    \n",
    "    return pDH"
   ]
  },
  {
   "cell_type": "code",
   "execution_count": 76,
   "metadata": {
    "collapsed": true
   },
   "outputs": [],
   "source": [
    "def likelihood(data, hypothesis, y):\n",
    "    pDH = []\n",
    "    for h in hypothesis:\n",
    "        if(data == TAPAT):\n",
    "            pDH.append((h/100*(1-y)) + ((1-h/100)*y))\n",
    "        else:\n",
    "            pDH.append((1-h/100)*(1-y) + ((h/100)*y))\n",
    "    return pDH"
   ]
  },
  {
   "cell_type": "code",
   "execution_count": 77,
   "metadata": {
    "collapsed": true
   },
   "outputs": [],
   "source": [
    "def update(hypo, prior, data):\n",
    "    # for each hypothesis, calculate P(H) * P(D|H), or the prior times the likelihood\n",
    "    \n",
    "    # get pHpDH\n",
    "    pHpDH = []\n",
    "    pDH = likelihood(data, hypo)\n",
    "    pSum = 0\n",
    "    for i in range(0,len(hypo)):\n",
    "        pHpDH.append(prior[i] * pDH[i])\n",
    "        pSum = pSum + pHpDH[i]\n",
    "#     print(pSum)    \n",
    "    posterior = []\n",
    "    for i in range(0,len(hypo)):\n",
    "        if(pSum == 0):\n",
    "            posterior.append(0)\n",
    "        else:\n",
    "            posterior.append(pHpDH[i]/pSum)\n",
    "        \n",
    "    return posterior"
   ]
  },
  {
   "cell_type": "code",
   "execution_count": 78,
   "metadata": {
    "collapsed": true
   },
   "outputs": [],
   "source": [
    "def update(hypo, prior, data, y):\n",
    "    # for each hypothesis, calculate P(H) * P(D|H), or the prior times the likelihood\n",
    "    \n",
    "    # get pHpDH\n",
    "    pHpDH = []\n",
    "    pDH = likelihoodWithBias(data, hypo, y)\n",
    "    pSum = 0\n",
    "    for i in range(0,len(hypo)):\n",
    "        pHpDH.append(prior[i] * pDH[i])\n",
    "        pSum = pSum + pHpDH[i]\n",
    "        \n",
    "    posterior = []\n",
    "    for i in range(0,len(hypo)):\n",
    "        if(pSum == 0):\n",
    "            posterior.append(0)\n",
    "        else:\n",
    "            posterior.append(pHpDH[i]/pSum)\n",
    "        \n",
    "    return posterior"
   ]
  },
  {
   "cell_type": "code",
   "execution_count": 79,
   "metadata": {
    "collapsed": true
   },
   "outputs": [],
   "source": [
    "def percentile(prior, hypothesis, percent):\n",
    "    p = percent / 100\n",
    "    \n",
    "    total = 0\n",
    "    \n",
    "    for i in range(len(hypothesis)):\n",
    "        total += prior[i]\n",
    "        if (total >= p):\n",
    "            return hypothesis[i]"
   ]
  },
  {
   "cell_type": "code",
   "execution_count": 80,
   "metadata": {
    "scrolled": true
   },
   "outputs": [
    {
     "name": "stdout",
     "output_type": "stream",
     "text": [
      "Mean 61.270486633194785\n",
      "46 77\n"
     ]
    },
    {
     "data": {
      "text/plain": [
       "61.270486633194785"
      ]
     },
     "execution_count": 80,
     "metadata": {},
     "output_type": "execute_result"
    },
    {
     "data": {
      "image/png": "[encoded data removed]",
      "text/plain": [
       "<matplotlib.figure.Figure at 0x2a4312bfac8>"
      ]
     },
     "metadata": {},
     "output_type": "display_data"
    }
   ],
   "source": [
    "def getBias(hypothesis, data, y):\n",
    "    \n",
    "    # initialize prior\n",
    "    prior = initPriors(hypothesis)\n",
    "\n",
    "    for d in data:\n",
    "        prior = updateWithBias(hypothesis, prior, d, y)\n",
    "\n",
    "    # plotting code\n",
    "    width = 1/1.5\n",
    "    plt.bar(hypothesis, prior, width)\n",
    "    fig = plt.gcf()\n",
    "\n",
    "    # find the dataset mean\n",
    "    mean = 0\n",
    "    for i in range(0, len(prior)):\n",
    "        mean = mean + hypothesis[i] * prior[i]\n",
    "\n",
    "    print(\"Mean\", mean)\n",
    "    print(percentile(prior, hypothesis, 2.5),percentile(prior, hypothesis, 97.5))\n",
    "    \n",
    "    return mean\n",
    "\n",
    "y = 0.3\n",
    "numStudents = 242\n",
    "getBias(hypothesis, data, y)"
   ]
  },
  {
   "cell_type": "code",
   "execution_count": null,
   "metadata": {
    "collapsed": true
   },
   "outputs": [],
   "source": []
  }
 ],
 "metadata": {
  "kernelspec": {
   "display_name": "Python 3",
   "language": "python",
   "name": "python3"
  },
  "language_info": {
   "codemirror_mode": {
    "name": "ipython",
    "version": 3
   },
   "file_extension": ".py",
   "mimetype": "text/x-python",
   "name": "python",
   "nbconvert_exporter": "python",
   "pygments_lexer": "ipython3",
   "version": "3.6.3"
  }
 },
 "nbformat": 4,
 "nbformat_minor": 2
}
