{
 "cells": [
  {
   "cell_type": "markdown",
   "metadata": {},
   "source": [
    "### ABADEJOS, Jason\n",
    "### MAGPALE, Nicolle\n",
    "### RECCION, Mavic"
   ]
  },
  {
   "cell_type": "markdown",
   "metadata": {},
   "source": [
    "## Bayes' Theorem\n",
    "\n",
    "Bayes' Theorem is a powerful theorem used to compute probabilities for questions we may not have a concrete way to compute for analytically. Bayes' Theorem, when viewed diachronistically, gives us a specific framework to build solutions to different problems by building up data. The theorem is as follows:\n",
    "\n",
    "$$\n",
    "P(H|D) = \\frac{P(H)P(D|H)}{P(D)}\n",
    "$$\n",
    "\n",
    "The terminology of each item in Bayes' Theorem's diachronistic expression is as follows below:\n",
    "\n",
    "    P(H) -   the prior; the per-hypothesis probability\n",
    "    P(D|H) - the likelihood; the probability of the data happening given a certain hypothesis\n",
    "    P(D) -   the normalizing constant\n",
    "    P(H|D) - the posterior; the updated probability of a hypothesis given new data\n",
    "\n",
    "This notebook will be used to create a framework to solve a few Bayesian Statistics problems."
   ]
  },
  {
   "cell_type": "code",
   "execution_count": 54,
   "metadata": {
    "collapsed": true
   },
   "outputs": [],
   "source": [
    "### IMPORTS\n",
    "\n",
    "%matplotlib inline\n",
    "from scipy.stats import norm\n",
    "import matplotlib\n",
    "import matplotlib.pyplot as plt\n",
    "from scipy.stats import gaussian_kde\n",
    "import numpy as np\n",
    "\n",
    "#set font size of plots to 22\n",
    "matplotlib.rcParams.update({\"font.size\":22})"
   ]
  },
  {
   "cell_type": "markdown",
   "metadata": {},
   "source": [
    "## The Dice Problem\n",
    "\n",
    "Suppose I have a box of dice that contains a 4-sided die, a 6-sided die, a 10-sided die, an 8-sided die, a 12-sided die, and a 20-sided die. If I select a die from the box at random, roll it, and get a 7, what is the probability that I rolled each die?\n"
   ]
  },
  {
   "cell_type": "markdown",
   "metadata": {},
   "source": [
    "## Identifying the Data and Hypotheses\n",
    "\n",
    "The first step to answering a problem using Bayesian Statistics is by identifying the specific data and hypotheses to be used in the problem. \n",
    "\n",
    "In the Dice Problem, the hypotheses to take into account are given as the different possible dice that can be rolled, and the data we have is the rolled result, or the 7."
   ]
  },
  {
   "cell_type": "code",
   "execution_count": 55,
   "metadata": {
    "collapsed": true
   },
   "outputs": [],
   "source": [
    "hypothesis = [4,6,8,10,12,20]    # list of hypotheses\n",
    "data = [7]       # list of data items to take into account"
   ]
  },
  {
   "cell_type": "markdown",
   "metadata": {},
   "source": [
    "## Setting the Priors\n",
    "\n",
    "The priors, or $P(H)$, are set to some specific distribution for some statistics problems. For the exercises in this notebook, the priors will be set to the uniform distribution. Later on, we can set our priors using some other distribution method."
   ]
  },
  {
   "cell_type": "code",
   "execution_count": 56,
   "metadata": {
    "collapsed": true
   },
   "outputs": [],
   "source": [
    "def initPriors(hypothesis):\n",
    "    pH = []\n",
    "    \n",
    "    # get pH\n",
    "    for h in hypothesis:\n",
    "        pH.append(1/len(hypothesis))\n",
    "    return pH     # set each prior to a uniform value"
   ]
  },
  {
   "cell_type": "markdown",
   "metadata": {},
   "source": [
    "## Setting the Likelihood Function\n",
    "\n",
    "The likelihood function, or $P(D|H)$ is found by calculating the probability that the data can happen given a certain hypothesis. The likelihood function generally is a relation between our data and our hypothesis, but can be found by other means as well.\n",
    "\n",
    "For our Dice Problem, the likelihood function should answer the question: \"How likely is it to roll a result of $\\$data$ if our dice has $\\$hypothesis$ sides?\""
   ]
  },
  {
   "cell_type": "code",
   "execution_count": 57,
   "metadata": {
    "collapsed": true
   },
   "outputs": [],
   "source": [
    "def likelihood(data, hypothesis):\n",
    "    pDH = []\n",
    "    for h in hypothesis:\n",
    "        if(h < data):\n",
    "            pDH.append(0)\n",
    "        else:\n",
    "            pDH.append(1/h)\n",
    "    return pDH"
   ]
  },
  {
   "cell_type": "markdown",
   "metadata": {},
   "source": [
    "## Updating Based on New Data\n",
    "\n",
    "Once the priors and the likelihood is calculated, the Bayes' Theorem may now be applied and used to update our old beliefs into newer, more accurate probabilities based on data. We just have to code it in. To reiterate, Bayes' Theorem is as follows:\n",
    "\n",
    "$$\n",
    "P(H|D) = \\frac{P(H)P(D|H)}{P(D)}\n",
    "$$"
   ]
  },
  {
   "cell_type": "code",
   "execution_count": 58,
   "metadata": {
    "collapsed": true
   },
   "outputs": [],
   "source": [
    "def update(hypo, prior, data):\n",
    "    # for each hypothesis, calculate P(H) * P(D|H), or the prior times the likelihood\n",
    "    \n",
    "    # get pHpDH\n",
    "    pHpDH = []\n",
    "    pDH = likelihood(data, hypo)\n",
    "    pSum = 0\n",
    "    for i in range(0,len(hypo)):\n",
    "        pHpDH.append(prior[i] * pDH[i])\n",
    "        pSum = pSum + pHpDH[i]\n",
    "        \n",
    "    posterior = []\n",
    "    for i in range(0,len(hypo)):\n",
    "        if(pSum == 0):\n",
    "            posterior.append(0)\n",
    "        else:\n",
    "            posterior.append(pHpDH[i]/pSum)\n",
    "        \n",
    "    return posterior"
   ]
  },
  {
   "cell_type": "markdown",
   "metadata": {},
   "source": [
    "## Putting Everything Together\n",
    "\n",
    "Now, let's solve the dice problem. We can add more data later on, too, but first, let's have our code running and output the answer."
   ]
  },
  {
   "cell_type": "code",
   "execution_count": 59,
   "metadata": {},
   "outputs": [
    {
     "name": "stdout",
     "output_type": "stream",
     "text": [
      "[4, 6, 8, 10, 12, 20]\n",
      "[0.0, 0.0, 0.3488372093023256, 0.27906976744186046, 0.23255813953488372, 0.13953488372093023]\n"
     ]
    },
    {
     "data": {
      "image/png": "[encoded data removed]",
      "text/plain": [
       "<matplotlib.figure.Figure at 0x185a1713320>"
      ]
     },
     "metadata": {},
     "output_type": "display_data"
    }
   ],
   "source": [
    "# given your hypothesis and data, initialize your priors.\n",
    "# next, feed the data into the update function\n",
    "# finally, print the values in the newly updated prior vector along with each hypothesis\n",
    "\n",
    "prior = initPriors(hypothesis)\n",
    "\n",
    "for d in data:\n",
    "    prior = update(hypothesis, prior, d)\n",
    "\n",
    "# plotting code\n",
    "width = 1/1.5\n",
    "plt.bar(hypothesis, prior, width)\n",
    "fig = plt.gcf()\n",
    "\n",
    "print(list(hypothesis))\n",
    "print(prior)"
   ]
  },
  {
   "cell_type": "markdown",
   "metadata": {},
   "source": [
    "## Try More Data!\n",
    "\n",
    "What about if the dice rolled the numbers in the array dicerolls, after rolling the 7 above? What about if the dice rolled random numbers from an n-sided dice?"
   ]
  },
  {
   "cell_type": "code",
   "execution_count": 60,
   "metadata": {},
   "outputs": [
    {
     "name": "stdout",
     "output_type": "stream",
     "text": [
      "[0.0, 0.0, 0.0, 0.8602282658411444, 0.13893166749299504, 0.0008400666658604926]\n"
     ]
    },
    {
     "data": {
      "image/png": "[encoded data removed]",
      "text/plain": [
       "<matplotlib.figure.Figure at 0x185a2f478d0>"
      ]
     },
     "metadata": {},
     "output_type": "display_data"
    }
   ],
   "source": [
    "dicerolls = [6,8,7,7,5,4]\n",
    "\n",
    "sides = 10       # feel free to change these variables\n",
    "rolls = 10\n",
    "rolldata = np.random.choice(range(1,sides+1),rolls)\n",
    "\n",
    "data = rolldata\n",
    "\n",
    "prior = initPriors(hypothesis)\n",
    "\n",
    "for d in data:\n",
    "    prior = update(hypothesis, prior, d)\n",
    "    \n",
    "# plotting code\n",
    "width = 1/1.5\n",
    "plt.bar(hypothesis, prior, width)\n",
    "fig = plt.gcf()\n",
    "\n",
    "print(prior)"
   ]
  },
  {
   "cell_type": "markdown",
   "metadata": {},
   "source": [
    "## What do the answers mean?\n",
    "\n",
    "Of course, just because you have a probability distribution doesn't mean you already have all of the answers. You simply have more data; not the important information to glean from the dataset. What information can you find from running this?"
   ]
  },
  {
   "cell_type": "markdown",
   "metadata": {},
   "source": [
    "## The Locomotive Problem\n",
    "\n",
    "A railroad numbers its locomotives in order 1..N. One day you see a locomotive with the number 60. Estimate how many locomotives the railroad has.\n",
    "\n",
    "Try to find an average guess for the number of locomotives owned by the railroad via the Bayes' Theorem. Let the number of hypotheses be 1000 at first.\n",
    "\n",
    "Note: the posterior mean is found by $\\mu = \\sum XP(X)$.\n",
    "\n",
    "Try to reason out why we can't just use the highest value, or 60, in this case."
   ]
  },
  {
   "cell_type": "code",
   "execution_count": 61,
   "metadata": {},
   "outputs": [
    {
     "data": {
      "text/plain": [
       "333.41989326371095"
      ]
     },
     "execution_count": 61,
     "metadata": {},
     "output_type": "execute_result"
    },
    {
     "data": {
      "image/png": "[encoded data removed]",
      "text/plain": [
       "<matplotlib.figure.Figure at 0x185a17a1eb8>"
      ]
     },
     "metadata": {},
     "output_type": "display_data"
    }
   ],
   "source": [
    "# define your hypotheses\n",
    "N = 1000\n",
    "hypothesis = range(1,N+1)\n",
    "\n",
    "# create your likelihood function\n",
    "data = [60]\n",
    "\n",
    "# initialize priors\n",
    "prior = initPriors(hypothesis)\n",
    "\n",
    "# update priors based on data\n",
    "for d in data:\n",
    "    prior = update(hypothesis, prior, d)\n",
    "\n",
    "# find the dataset mean\n",
    "mean = 0\n",
    "for i in range(0, len(prior)):\n",
    "    mean = mean + hypothesis[i] * prior[i]\n",
    "\n",
    "\n",
    "\n",
    "# plotting code\n",
    "\n",
    "width = 1/1.5\n",
    "plt.bar(hypothesis, prior, width)\n",
    "fig = plt.gcf()\n",
    "\n",
    "mean"
   ]
  },
  {
   "cell_type": "markdown",
   "metadata": {},
   "source": [
    "## Is our posterior mean a 'nice' value?\n",
    "\n",
    "To make any progress on the locomotive problem we had to make a few assumptions, and some of them were pretty arbitrary. In particular, we chose a uniform prior from 1 to 1000, without much justification for choosing 1000, or for choosing a uniform distribution.\n",
    "\n",
    "What if our values were different? Try changing the number of predicted trains and see what the effect is on the posterior mean.  Try using the values 500 and 2000 for the number of hypotheses."
   ]
  },
  {
   "cell_type": "code",
   "execution_count": 62,
   "metadata": {},
   "outputs": [
    {
     "name": "stdout",
     "output_type": "stream",
     "text": [
      "500   207.079227983409\n",
      "1000   333.41989326371095\n",
      "2000   552.179017164631\n"
     ]
    }
   ],
   "source": [
    "# try different hypotheses counts 500, 1000, and 2000\n",
    "\n",
    "def bayes(hypothesis, N, data):\n",
    "    hypothesis = range(1,N+1)    \n",
    "\n",
    "    # initialize priors\n",
    "    prior = initPriors(hypothesis)\n",
    "\n",
    "    # update priors based on data\n",
    "    for d in data:\n",
    "        prior = update(hypothesis, prior, d)\n",
    "\n",
    "    # find the dataset mean\n",
    "    mean = 0\n",
    "    for i in range(0, len(prior)):\n",
    "        mean = mean + hypothesis[i] * prior[i]\n",
    "    \n",
    "    return mean\n",
    "\n",
    "N = [500,1000,2000] \n",
    "means = []\n",
    "for i in range(0, len(N)):\n",
    "    means.append(bayes(hypothesis, N[i], data))\n",
    "    print(N[i], \" \", means[i])"
   ]
  },
  {
   "cell_type": "markdown",
   "metadata": {},
   "source": [
    "## Curbing the Variance: More Data\n",
    "\n",
    "Our means vary a lot! The simple reason is because we have only one data point, so our priors matter possibly too much. If we added more data/make more train observations, our means would vary a bit less. Try it out!"
   ]
  },
  {
   "cell_type": "code",
   "execution_count": 63,
   "metadata": {},
   "outputs": [
    {
     "name": "stdout",
     "output_type": "stream",
     "text": [
      "500   151.84958795903825\n",
      "1000   164.3055864227336\n",
      "2000   171.3381810915094\n"
     ]
    }
   ],
   "source": [
    "data = [60,30,90]  # the first observation of 60 is already included, so initialize priors before running with all the data!\n",
    "\n",
    "N = [500,1000,2000] \n",
    "means = []\n",
    "for i in range(0, len(N)):\n",
    "    means.append(bayes(hypothesis, N[i], data))\n",
    "    print(N[i], \" \", means[i])"
   ]
  },
  {
   "cell_type": "markdown",
   "metadata": {},
   "source": [
    "## Curbing the Variance: Better Priors\n",
    "\n",
    "Another way to curb the variance is by assigning better priors to our dataset by gathering some background information, because it's probably unreasonable to assume that a train-operating company with 1000 locomotives is just as likely as a company with only 1.\n",
    "\n",
    "With some effort, we could probably find a list of companies that operate locomotives in the area of observation. Or we could interview an expert in rail shipping to gather information about the typical size of companies. But even without getting into the specifics of railroad economics, we can make some educated guesses.\n",
    "\n",
    "In most fields, there are many small companies, fewer medium-sized companies, and only one or two very large companies. In fact, the distribution of company sizes tends to follow a power law, as Robert Axtell reports in Science (see http://www.sciencemag.org/content/293/5536/1818.full.pdf).\n",
    "\n",
    "Mathematically, a power law means that the number of companies with a given size is inversely proportional to size, or\n",
    "\n",
    "$$P(x) \\propto \\Big(\\frac{1}{x}\\Big)^\\alpha$$"
   ]
  },
  {
   "cell_type": "code",
   "execution_count": 64,
   "metadata": {
    "collapsed": true
   },
   "outputs": [],
   "source": [
    "# rewrite the prior distribution function to emulate the power law\n",
    "# note: you can do this by assigning each hypothesis an initial 'score' on the power law \n",
    "#       and then normalizing the probabilities such that they add up to 1\n",
    "\n",
    "\n",
    "def initPriors(hypothesis):\n",
    "    pH = []\n",
    "    priors = []\n",
    "    sum = 0\n",
    "    # get pH\n",
    "    for i in range(0, len(hypothesis)):\n",
    "        pH.append(1/(i+1))\n",
    "        sum = sum + pH[i]\n",
    "    \n",
    "    for i in range(0, len(hypothesis)):\n",
    "        priors.append(pH[i] / sum)\n",
    "        \n",
    "    return priors"
   ]
  },
  {
   "cell_type": "markdown",
   "metadata": {},
   "source": [
    "## Point Estimates and Interval Estimates\n",
    "\n",
    "We use posterior means to describe our dataset because the mean of a dataset is the value that minimizes error if a lot of different guesses are made and the error is totalled up throughout those guesses. But in the end, the posterior mean is also one single point; or a single guess to what the true 'answer' to the question is. If we wanted to make our guess more general with a certain level of certainty, we have equations for Confidence Intervals, but they only work for normal distributions, and our data is definitely not normally distributed.\n",
    "\n",
    "Fortunately, calculation of an interval given a large normalized dataset is very simple:"
   ]
  },
  {
   "cell_type": "code",
   "execution_count": 65,
   "metadata": {
    "collapsed": true
   },
   "outputs": [],
   "source": [
    "def percentile(prior, hypothesis, percent):\n",
    "    p = percent / 100\n",
    "    \n",
    "    total = 0\n",
    "    \n",
    "    for i in range(len(hypothesis)):\n",
    "        total += prior[i]\n",
    "        if (total >= p):\n",
    "            return hypothesis[i]"
   ]
  },
  {
   "cell_type": "markdown",
   "metadata": {},
   "source": [
    "The *percentile* function is a function that calculates a cumulative percent of the dataset starting from zero, much like how our Z-table works. To use the function to calculate an 90% interval estimate for the number of trains N, simply call $P(5)$ and $P(95)$ for a 90% interval."
   ]
  },
  {
   "cell_type": "code",
   "execution_count": 66,
   "metadata": {},
   "outputs": [
    {
     "name": "stdout",
     "output_type": "stream",
     "text": [
      "69 869\n"
     ]
    }
   ],
   "source": [
    "print(percentile(prior, hypothesis, 5),percentile(prior, hypothesis, 95))"
   ]
  },
  {
   "cell_type": "markdown",
   "metadata": {},
   "source": [
    "## Homework #1: More Train Companies?!\n",
    "\n",
    "In our first train example, we made the assumption that we have only one train company with N trains. But that isn't true to real life, as one railroad may be used by multiple train companies with different numbers of trains.\n",
    "\n",
    "Try to extend the current railroad example to multiple train companies; where you are equally likely to see any train operated by any company."
   ]
  },
  {
   "cell_type": "markdown",
   "metadata": {},
   "source": [
    "Some arbitrary assumptions:\n",
    "* overall hypothesis corresponds to the train numbers of each company\n",
    "* data corresponds to the order of trains seen\n",
    "* the number of the companies is given by N\n",
    "* the number of trains each company has is generated randomly from 1-N\n",
    "* the distribution of trains for any given company follows an inverse-power law distribution\n",
    "\n",
    "\n",
    "The solution starts with the initialization of the necessary variables such as N, the number of trains per company, data, list of priors. Then, for all trains that we see, we get the probability of each train per company. First, we initialize the accumulated priors and the accumulated hypothesis. Next, for each company, we compute for the proability of each train using bayes method. We only initialize our priors only once so that it won't be changed in the long run. While getting the probability using the bayes method, we add the resulting prior and hypothesis to their respective accumulated list. Then, after getting the probability of each train using the bayes method, we use the accumulated hypothesis and accumulated priors to compute for the probability of a train of that company. "
   ]
  },
  {
   "cell_type": "code",
   "execution_count": 67,
   "metadata": {
    "scrolled": true
   },
   "outputs": [
    {
     "name": "stdout",
     "output_type": "stream",
     "text": [
      "ITERATION  0 [0]\n",
      "ITERATION  0 [0.0, 0.0, 0.0, 0.0, 0.0, 1.0]\n",
      "ITERATION  0 [0, 0]\n",
      "ITERATION  0 [0, 0]\n",
      "ITERATION  0 [0, 0, 0, 0, 0]\n",
      "ITERATION  0 [0, 0, 0, 0, 0]\n",
      "ITERATION  0 [0.0, 0.0, 0.0, 0.0, 0.0, 0.3647454122512277, 0.26797622124579995, 0.20516929439131562, 0.1621090721116568]\n",
      "ITERATION  0 [0.0, 0.0, 0.0, 0.0, 0.0, 0.5764705882352941, 0.4235294117647058]\n",
      "ITERATION  0 [0, 0, 0, 0, 0]\n",
      "ITERATION  0 [0]\n",
      "===\n",
      "Company 0 Train # 1 = 0.0\n",
      "Company 1 Train # 1 = 0.0\n",
      "Company 1 Train # 2 = 0.0\n",
      "Company 1 Train # 3 = 0.0\n",
      "Company 1 Train # 4 = 0.0\n",
      "Company 1 Train # 5 = 0.0\n",
      "Company 1 Train # 6 = 0.35766852768369706\n",
      "Company 2 Train # 1 = 0.0\n",
      "Company 2 Train # 2 = 0.0\n",
      "Company 3 Train # 1 = 0.0\n",
      "Company 3 Train # 2 = 0.0\n",
      "Company 4 Train # 1 = 0.0\n",
      "Company 4 Train # 2 = 0.0\n",
      "Company 4 Train # 3 = 0.0\n",
      "Company 4 Train # 4 = 0.0\n",
      "Company 4 Train # 5 = 0.0\n",
      "Company 5 Train # 1 = 0.0\n",
      "Company 5 Train # 2 = 0.0\n",
      "Company 5 Train # 3 = 0.0\n",
      "Company 5 Train # 4 = 0.0\n",
      "Company 5 Train # 5 = 0.0\n",
      "Company 6 Train # 1 = 0.0\n",
      "Company 6 Train # 2 = 0.0\n",
      "Company 6 Train # 3 = 0.0\n",
      "Company 6 Train # 4 = 0.0\n",
      "Company 6 Train # 5 = 0.0\n",
      "Company 6 Train # 6 = 0.13045795457927972\n",
      "Company 6 Train # 7 = 0.08215428043476508\n",
      "Company 6 Train # 8 = 0.05503694958813365\n",
      "Company 6 Train # 9 = 0.038654208764231035\n",
      "Company 7 Train # 1 = 0.0\n",
      "Company 7 Train # 2 = 0.0\n",
      "Company 7 Train # 3 = 0.0\n",
      "Company 7 Train # 4 = 0.0\n",
      "Company 7 Train # 5 = 0.0\n",
      "Company 7 Train # 6 = 0.2061853865470724\n",
      "Company 7 Train # 7 = 0.1298426924028211\n",
      "Company 8 Train # 1 = 0.0\n",
      "Company 8 Train # 2 = 0.0\n",
      "Company 8 Train # 3 = 0.0\n",
      "Company 8 Train # 4 = 0.0\n",
      "Company 8 Train # 5 = 0.0\n",
      "Company 9 Train # 1 = 0.0\n",
      "===\n"
     ]
    }
   ],
   "source": [
    "# initialize number of companies\n",
    "N = 10\n",
    "\n",
    "# initialize number of trains per company\n",
    "nTrainsPerCompany = list(np.random.choice(range(1, N+1), N))\n",
    "\n",
    "# initialize data\n",
    "data = [6]\n",
    "\n",
    "# initialize list of prior\n",
    "prior = [0] * N\n",
    "priorPerData = []\n",
    "\n",
    "# iterate per element in data\n",
    "for i in range(0, len(data)):\n",
    "    \n",
    "    # initialize list for accumulated priors of all companies\n",
    "    priorOfAllCompanies = []\n",
    "    \n",
    "    # initialize list for accumulated hypothesis of all companies\n",
    "    hypothesisOfAllCompanies = []\n",
    "    \n",
    "    # iterate through all companies\n",
    "    # bayes rule\n",
    "    for j in range(0, N):\n",
    "        \n",
    "        # prepare hypothesis\n",
    "        hypothesis = range(1, nTrainsPerCompany[j] + 1)\n",
    "        \n",
    "        # initialize priors only once\n",
    "        if(i == 0):\n",
    "            prior[j] = initPriors(hypothesis)\n",
    "        \n",
    "        # update prior\n",
    "        prior[j] = update(hypothesis, prior[j], data[i])\n",
    "        \n",
    "        # add to accumulated priors of all companies\n",
    "        priorOfAllCompanies.extend(prior[j])\n",
    "        \n",
    "        # add to accumulated hypothesis of all companies\n",
    "        hypothesisOfAllCompanies.extend(hypothesis)\n",
    "        print(\"ITERATION \", i, prior[j])\n",
    "    \n",
    "    # compute for probability of seeing the train in that company\n",
    "    priorPerData = update(hypothesisOfAllCompanies, priorOfAllCompanies, data[i])\n",
    "    print(\"===\")\n",
    "    ctr = 0\n",
    "    for i in range(0,len(nTrainsPerCompany)):\n",
    "        for j in range(1, nTrainsPerCompany[i]+1):\n",
    "            print(\"Company\", i, \"Train #\", j, \"=\", priorPerData[ctr])\n",
    "            ctr = ctr + 1\n",
    "    print(\"===\")\n",
    "\n",
    "# width = 1/1.5\n",
    "# plt.bar(nTrainsPerCompany, priorPerData, width)\n",
    "# fig = plt.gcf()"
   ]
  },
  {
   "cell_type": "markdown",
   "metadata": {},
   "source": [
    "References: \n",
    "    Think Bayes, Green Tea Press, Allen B. Downey"
   ]
  }
 ],
 "metadata": {
  "kernelspec": {
   "display_name": "Python 3",
   "language": "python",
   "name": "python3"
  },
  "language_info": {
   "codemirror_mode": {
    "name": "ipython",
    "version": 3
   },
   "file_extension": ".py",
   "mimetype": "text/x-python",
   "name": "python",
   "nbconvert_exporter": "python",
   "pygments_lexer": "ipython3",
   "version": "3.6.3"
  }
 },
 "nbformat": 4,
 "nbformat_minor": 2
}
