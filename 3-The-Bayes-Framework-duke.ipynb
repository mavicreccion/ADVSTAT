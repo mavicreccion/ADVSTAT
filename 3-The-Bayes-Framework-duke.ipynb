{
 "cells": [
  {
   "cell_type": "markdown",
   "metadata": {},
   "source": [
    "## Bayes' Theorem\n",
    "\n",
    "Bayes' Theorem is a powerful theorem used to compute probabilities for questions we may not have a concrete way to compute for analytically. Bayes' Theorem, when viewed diachronistically, gives us a specific framework to build solutions to different problems by building up data. The theorem is as follows:\n",
    "\n",
    "$$\n",
    "P(H|D) = \\frac{P(H)P(D|H)}{P(D)}\n",
    "$$\n",
    "\n",
    "The terminology of each item in Bayes' Theorem's diachronistic expression is as follows below:\n",
    "\n",
    "    P(H) -   the prior; the per-hypothesis probability\n",
    "    P(D|H) - the likelihood; the probability of the data happening given a certain hypothesis\n",
    "    P(D) -   the normalizing constant\n",
    "    P(H|D) - the posterior; the updated probability of a hypothesis given new data\n",
    "\n",
    "This notebook will be used to create a framework to solve a few Bayesian Statistics problems."
   ]
  },
  {
   "cell_type": "code",
   "execution_count": 28,
   "metadata": {
    "collapsed": true
   },
   "outputs": [],
   "source": [
    "### IMPORTS\n",
    "\n",
    "%matplotlib inline\n",
    "from scipy.stats import norm\n",
    "import matplotlib\n",
    "import matplotlib.pyplot as plt\n",
    "from scipy.stats import gaussian_kde\n",
    "import numpy as np\n",
    "\n",
    "#set font size of plots to 22\n",
    "matplotlib.rcParams.update({\"font.size\":22})"
   ]
  },
  {
   "cell_type": "markdown",
   "metadata": {},
   "source": [
    "## The Dice Problem\n",
    "\n",
    "Suppose I have a box of dice that contains a 4-sided die, a 6-sided die, a 10-sided die, an 8-sided die, a 12-sided die, and a 20-sided die. If I select a die from the box at random, roll it, and get a 7, what is the probability that I rolled each die?\n"
   ]
  },
  {
   "cell_type": "markdown",
   "metadata": {},
   "source": [
    "## Identifying the Data and Hypotheses\n",
    "\n",
    "The first step to answering a problem using Bayesian Statistics is by identifying the specific data and hypotheses to be used in the problem. \n",
    "\n",
    "In the Dice Problem, the hypotheses to take into account are given as the different possible dice that can be rolled, and the data we have is the rolled result, or the 7."
   ]
  },
  {
   "cell_type": "code",
   "execution_count": 29,
   "metadata": {
    "collapsed": true
   },
   "outputs": [],
   "source": [
    "hypothesis = [6,8,10,12,20]    # list of hypotheses\n",
    "data = [7]       # list of data items to take into account"
   ]
  },
  {
   "cell_type": "markdown",
   "metadata": {},
   "source": [
    "## Setting the Priors\n",
    "\n",
    "The priors, or $P(H)$, are set to some specific distribution for some statistics problems. For the exercises in this notebook, the priors will be set to the uniform distribution. Later on, we can set our priors using some other distribution method."
   ]
  },
  {
   "cell_type": "code",
   "execution_count": 30,
   "metadata": {
    "collapsed": true
   },
   "outputs": [],
   "source": [
    "def initPriors(hypothesis):\n",
    "    return np.ones(len(hypothesis)) / len(hypothesis)     # set each prior to a uniform value"
   ]
  },
  {
   "cell_type": "markdown",
   "metadata": {},
   "source": [
    "## Setting the Likelihood Function\n",
    "\n",
    "The likelihood function, or $P(D|H)$ is found by calculating the probability that the data can happen given a certain hypothesis. The likelihood function generally is a relation between our data and our hypothesis, but can be found by other means as well.\n",
    "\n",
    "For our Dice Problem, the likelihood function should answer the question: \"How likely is it to roll a result of $\\$data$ if our dice has $\\$hypothesis$ sides?\""
   ]
  },
  {
   "cell_type": "code",
   "execution_count": 31,
   "metadata": {
    "collapsed": true
   },
   "outputs": [],
   "source": [
    "def likelihood(data, hypothesis):\n",
    "    if (data > hypothesis):\n",
    "        return 0\n",
    "    else:\n",
    "        return 1/hypothesis"
   ]
  },
  {
   "cell_type": "markdown",
   "metadata": {},
   "source": [
    "## Updating Based on New Data\n",
    "\n",
    "Once the priors and the likelihood is calculated, the Bayes' Theorem may now be applied and used to update our old beliefs into newer, more accurate probabilities based on data. We just have to code it in. To reiterate, Bayes' Theorem is as follows:\n",
    "\n",
    "$$\n",
    "P(H|D) = \\frac{P(H)P(D|H)}{P(D)}\n",
    "$$"
   ]
  },
  {
   "cell_type": "code",
   "execution_count": 32,
   "metadata": {
    "collapsed": true
   },
   "outputs": [],
   "source": [
    "def update(hypo, prior, data):\n",
    "    # for each hypothesis, calculate P(H) * P(D|H), or the prior times the likelihood\n",
    "    posterior = []\n",
    "    \n",
    "    for h in range(len(prior)):\n",
    "        posterior.append(prior[h] * likelihood(data, hypo[h]))\n",
    "    \n",
    "    # normalize the data by the sum, or divide by P(D)\n",
    "    norm = np.sum(posterior)\n",
    "    posterior = posterior / norm\n",
    "    \n",
    "    return posterior"
   ]
  },
  {
   "cell_type": "markdown",
   "metadata": {},
   "source": [
    "## Putting Everything Together\n",
    "\n",
    "Now, let's solve the dice problem. We can add more data later on, too, but first, let's have our code running and output the answer."
   ]
  },
  {
   "cell_type": "code",
   "execution_count": 33,
   "metadata": {},
   "outputs": [
    {
     "name": "stdout",
     "output_type": "stream",
     "text": [
      "6 0.0\n",
      "8 0.34883720930232553\n",
      "10 0.27906976744186046\n",
      "12 0.23255813953488366\n",
      "20 0.13953488372093023\n"
     ]
    },
    {
     "data": {
      "image/png": "[encoded data removed]",
      "text/plain": [
       "<matplotlib.figure.Figure at 0x254f0cb5f98>"
      ]
     },
     "metadata": {},
     "output_type": "display_data"
    }
   ],
   "source": [
    "# given your hypothesis and data, initialize your priors.\n",
    "prior = initPriors(hypothesis)\n",
    "\n",
    "# feed the data into the update function\n",
    "\n",
    "for d in data:\n",
    "    prior = update(hypothesis, prior, d)\n",
    "\n",
    "# print the values in the newly updated prior vector along with each hypothesis\n",
    "for h in range(len(hypothesis)):\n",
    "    print(hypothesis[h],prior[h])\n",
    "    \n",
    "# plotting code\n",
    "\n",
    "width = 1/1.5\n",
    "plt.bar(hypothesis, prior, width)\n",
    "fig = plt.gcf()\n"
   ]
  },
  {
   "cell_type": "markdown",
   "metadata": {},
   "source": [
    "## Try More Data!\n",
    "\n",
    "What about if the dice rolled the numbers in the array dicerolls, after rolling the 7 above? What about if the dice rolled random numbers from an n-sided dice?"
   ]
  },
  {
   "cell_type": "code",
   "execution_count": 34,
   "metadata": {
    "collapsed": true
   },
   "outputs": [],
   "source": [
    "dicerolls = [6,8,7,7,5,4]\n",
    "\n",
    "sides = 10       # feel free to change these variables\n",
    "rolls = 10\n",
    "rolldata = np.random.choice(range(1,sides+1),rolls)"
   ]
  },
  {
   "cell_type": "markdown",
   "metadata": {},
   "source": [
    "## What do the answers mean?\n",
    "\n",
    "Of course, just because you have a probability distribution doesn't mean you already have all of the answers. You simply have more data; not the important information to glean from the dataset. What information can you find from running this?"
   ]
  },
  {
   "cell_type": "markdown",
   "metadata": {},
   "source": [
    "## The Locomotive Problem\n",
    "\n",
    "A railroad numbers its locomotives in order 1..N. One day you see a locomotive with the number 60. Estimate how many locomotives the railroad has.\n",
    "\n",
    "Try to find an average guess for the number of locomotives owned by the railroad via the Bayes' Theorem. Let the number of hypotheses be 1000 at first.\n",
    "\n",
    "Note: the posterior mean is found by $\\mu = \\sum XP(X)$.\n",
    "\n",
    "Try to reason out why we can't just use the highest value, or 60, in this case."
   ]
  },
  {
   "cell_type": "code",
   "execution_count": 35,
   "metadata": {},
   "outputs": [
    {
     "name": "stdout",
     "output_type": "stream",
     "text": [
      "333.41989326371095\n"
     ]
    },
    {
     "data": {
      "image/png": "[encoded data removed]",
      "text/plain": [
       "<matplotlib.figure.Figure at 0x254f0db0358>"
      ]
     },
     "metadata": {},
     "output_type": "display_data"
    }
   ],
   "source": [
    "hypothesis = range(1, 1001)\n",
    "\n",
    "def likelihood(data, hypo):\n",
    "    if (data > hypo):\n",
    "        return 0\n",
    "    else:\n",
    "        return 1/hypo\n",
    "\n",
    "prior = initPriors(hypothesis)\n",
    "\n",
    "prior = update(hypothesis, prior, 60)\n",
    "\n",
    "mean = 0\n",
    "for x in range(len(hypothesis)):\n",
    "    mean += hypothesis[x] * prior[x]\n",
    "    \n",
    "\n",
    "    \n",
    "# plotting code\n",
    "\n",
    "width = 1/1.5\n",
    "plt.bar(hypothesis, prior, width)\n",
    "fig = plt.gcf()\n",
    "\n",
    "# print the found mean\n",
    "\n",
    "print(mean)"
   ]
  },
  {
   "cell_type": "markdown",
   "metadata": {},
   "source": [
    "## Is our posterior mean a 'nice' value?\n",
    "\n",
    "To make any progress on the locomotive problem we had to make a few assumptions, and some of them were pretty arbitrary. In particular, we chose a uniform prior from 1 to 1000, without much justification for choosing 1000, or for choosing a uniform distribution.\n",
    "\n",
    "What if our values were different? Try changing the number of predicted trains and see what the effect is on the posterior mean.  Try using the values 500 and 2000 for the number of hypotheses."
   ]
  },
  {
   "cell_type": "code",
   "execution_count": 36,
   "metadata": {},
   "outputs": [
    {
     "name": "stdout",
     "output_type": "stream",
     "text": [
      "500 207.07922798340903\n",
      "1000 333.41989326371095\n",
      "2000 552.179017164631\n"
     ]
    }
   ],
   "source": [
    "hyp = [range(1, 501),range(1, 1001), range(1, 2001)]\n",
    "\n",
    "def likelihood(data, hypo):\n",
    "    if (data > hypo):\n",
    "        return 0\n",
    "    else:\n",
    "        return 1/hypo\n",
    "\n",
    "    \n",
    "for h in hyp:\n",
    "    prior = initPriors(h)\n",
    "    prior = update(h, prior, 60)\n",
    "\n",
    "    mean = 0\n",
    "    for x in range(len(h)):\n",
    "        mean += h[x] * prior[x]\n",
    "\n",
    "    print(len(h), mean)"
   ]
  },
  {
   "cell_type": "markdown",
   "metadata": {},
   "source": [
    "## Curbing the Variance: More Data\n",
    "\n",
    "Our means vary a lot! The simple reason is because we have only one data point, so our priors matter possibly too much. If we added more data/make more train observations, our means would vary a bit less. Try it out!"
   ]
  },
  {
   "cell_type": "code",
   "execution_count": 37,
   "metadata": {},
   "outputs": [
    {
     "name": "stdout",
     "output_type": "stream",
     "text": [
      "500 207.07922798340903\n",
      "500 143.81231982097916\n",
      "500 151.84958795903833\n",
      "\n",
      "1000 333.41989326371095\n",
      "1000 178.54735317971577\n",
      "1000 164.3055864227335\n",
      "\n",
      "2000 552.179017164631\n",
      "2000 215.56892550615518\n",
      "2000 171.3381810915093\n",
      "\n"
     ]
    }
   ],
   "source": [
    "data = [60,30,90]  # the first observation of 60 is already included, so initialize priors before running with all the data!\n",
    "\n",
    "for h in hyp:\n",
    "    prior = initPriors(h)\n",
    "    \n",
    "    for d in data:\n",
    "        prior = update(h, prior, d)\n",
    "\n",
    "        mean = 0\n",
    "        for x in range(len(h)):\n",
    "            mean += h[x] * prior[x]\n",
    "        \n",
    "        print(len(h), mean)\n",
    "    \n",
    "    print()"
   ]
  },
  {
   "cell_type": "markdown",
   "metadata": {},
   "source": [
    "Notes:\n",
    "\n",
    "Rearranging the found posterior means for each data point shows the following:\n",
    "\n",
    "    500 207.07922798340903\n",
    "    1000 333.41989326371095\n",
    "    2000 552.179017164631\n",
    "\n",
    "    500 143.81231982097916\n",
    "    1000 178.54735317971577\n",
    "    2000 215.56892550615518\n",
    "\n",
    "    500 151.84958795903833\n",
    "    1000 164.3055864227335\n",
    "    2000 171.3381810915093\n",
    "\n",
    "Looking at these numbers, each data point reduces the variance of each by a fair bit. More data will reduce the posterior mean variance based on arbitrary values. Why?"
   ]
  },
  {
   "cell_type": "markdown",
   "metadata": {},
   "source": [
    "## Curbing the Variance: Better Priors\n",
    "\n",
    "Another way to curb the variance is by assigning better priors to our dataset by gathering some background information, because it's probably unreasonable to assume that a train-operating company with 1000 locomotives is just as likely as a company with only 1.\n",
    "\n",
    "With some effort, we could probably find a list of companies that operate locomotives in the area of observation. Or we could interview an expert in rail shipping to gather information about the typical size of companies. But even without getting into the specifics of railroad economics, we can make some educated guesses.\n",
    "\n",
    "In most fields, there are many small companies, fewer medium-sized companies, and only one or two very large companies. In fact, the distribution of company sizes tends to follow a power law, as Robert Axtell reports in Science (see http://www.sciencemag.org/content/293/5536/1818.full.pdf).\n",
    "\n",
    "Mathematically, a power law means that the number of companies with a given size is inversely proportional to size, or\n",
    "\n",
    "$$P(x) \\propto \\Big(\\frac{1}{x}\\Big)^\\alpha$$"
   ]
  },
  {
   "cell_type": "code",
   "execution_count": 41,
   "metadata": {
    "collapsed": true
   },
   "outputs": [],
   "source": [
    "# rewrite the prior distribution function to emulate the power law\n",
    "# note: you can do this by assigning each hypothesis an initial 'score' on the power law \n",
    "#       and then normalizing the probabilities such that they add up to 1\n",
    "\n",
    "def initPriors(hypothesis):\n",
    "    priors = []\n",
    "    \n",
    "    for h in hypothesis:\n",
    "        priors.append(1/h)\n",
    "        \n",
    "    return priors / np.sum(priors)"
   ]
  },
  {
   "cell_type": "code",
   "execution_count": 43,
   "metadata": {},
   "outputs": [
    {
     "name": "stdout",
     "output_type": "stream",
     "text": [
      "178.54735317971577\n"
     ]
    },
    {
     "data": {
      "image/png": "[encoded data removed]",
      "text/plain": [
       "<matplotlib.figure.Figure at 0x254f26dd9b0>"
      ]
     },
     "metadata": {},
     "output_type": "display_data"
    }
   ],
   "source": [
    "prior = initPriors(hypothesis)\n",
    "\n",
    "prior = update(hypothesis, prior, 60)\n",
    "\n",
    "mean = 0\n",
    "for x in range(len(hypothesis)):\n",
    "    mean += hypothesis[x] * prior[x]\n",
    "    \n",
    "    \n",
    "# plotting code\n",
    "\n",
    "width = 1/1.5\n",
    "plt.bar(hypothesis, prior, width)\n",
    "fig = plt.gcf()\n",
    "\n",
    "# print the found mean\n",
    "\n",
    "print(mean)\n"
   ]
  },
  {
   "cell_type": "code",
   "execution_count": 44,
   "metadata": {},
   "outputs": [
    {
     "name": "stdout",
     "output_type": "stream",
     "text": [
      "500 143.81231982097916\n",
      "1000 178.54735317971577\n",
      "2000 215.56892550615518\n"
     ]
    }
   ],
   "source": [
    "hyp = [range(1, 501),range(1, 1001), range(1, 2001)]\n",
    "\n",
    "def likelihood(data, hypo):\n",
    "    if (data > hypo):\n",
    "        return 0\n",
    "    else:\n",
    "        return 1/hypo\n",
    "\n",
    "    \n",
    "for h in hyp:\n",
    "    prior = initPriors(h)\n",
    "    prior = update(h, prior, 60)\n",
    "\n",
    "    mean = 0\n",
    "    for x in range(len(h)):\n",
    "        mean += h[x] * prior[x]\n",
    "\n",
    "    print(len(h), mean)"
   ]
  },
  {
   "cell_type": "markdown",
   "metadata": {},
   "source": [
    "Notes: \n",
    "\n",
    "Compare to the earlier output:\n",
    "\n",
    "    500 207.07922798340903\n",
    "    1000 333.41989326371095\n",
    "    2000 552.179017164631\n",
    "\n",
    "The variance is much smaller. Now for the data:"
   ]
  },
  {
   "cell_type": "code",
   "execution_count": 45,
   "metadata": {},
   "outputs": [
    {
     "name": "stdout",
     "output_type": "stream",
     "text": [
      "500 143.81231982097916\n",
      "500 106.36102951451464\n",
      "500 130.70846986255998\n",
      "\n",
      "1000 178.54735317971577\n",
      "1000 112.32543159449723\n",
      "1000 133.27523137503098\n",
      "\n",
      "2000 215.56892550615518\n",
      "2000 115.56822772356378\n",
      "2000 133.99746308073088\n",
      "\n"
     ]
    }
   ],
   "source": [
    "data = [60,30,90]  # the first observation of 60 is already included, so initialize priors before running with all the data!\n",
    "\n",
    "for h in hyp:\n",
    "    prior = initPriors(h)\n",
    "    \n",
    "    for d in data:\n",
    "        prior = update(h, prior, d)\n",
    "\n",
    "        mean = 0\n",
    "        for x in range(len(h)):\n",
    "            mean += h[x] * prior[x]\n",
    "        \n",
    "        print(len(h), mean)\n",
    "    \n",
    "    print()"
   ]
  },
  {
   "cell_type": "markdown",
   "metadata": {},
   "source": [
    "Taking all the data into account:\n",
    "\n",
    "\n",
    "Before changing priors:\n",
    "\n",
    "    500 151.84958795903833\n",
    "    1000 164.3055864227335\n",
    "    2000 171.3381810915093\n",
    "    \n",
    "After:\n",
    "\n",
    "    500 130.70846986255998\n",
    "    1000 133.27523137503098\n",
    "    2000 133.99746308073088"
   ]
  },
  {
   "cell_type": "markdown",
   "metadata": {},
   "source": [
    "## Point Estimates and Interval Estimates\n",
    "\n",
    "We use posterior means to describe our dataset because the mean of a dataset is the value that minimizes error if a lot of different guesses are made and the error is totalled up throughout those guesses. But in the end, the posterior mean is also one single point; or a single guess to what the true 'answer' to the question is. If we wanted to make our guess more general with a certain level of certainty, we have equations for Confidence Intervals, but they only work for normal distributions, and our data is definitely not normally distributed.\n",
    "\n",
    "Fortunately, calculation of an interval given a large normalized dataset is very simple:"
   ]
  },
  {
   "cell_type": "code",
   "execution_count": 46,
   "metadata": {
    "collapsed": true
   },
   "outputs": [],
   "source": [
    "def percentile(prior, hypothesis, percent):\n",
    "    p = percent / 100\n",
    "    \n",
    "    total = 0\n",
    "    \n",
    "    for i in range(len(hypothesis)):\n",
    "        total += prior[i]\n",
    "        if (total >= p):\n",
    "            return hypothesis[i]"
   ]
  },
  {
   "cell_type": "markdown",
   "metadata": {},
   "source": [
    "The *percentile* function is a function that calculates a cumulative percent of the dataset starting from zero, much like how our Z-table works. To use the function to calculate an 90% interval estimate for the number of trains N, simply call $P(5)$ and $P(95)$ for a 90% interval."
   ]
  },
  {
   "cell_type": "code",
   "execution_count": 47,
   "metadata": {},
   "outputs": [
    {
     "name": "stdout",
     "output_type": "stream",
     "text": [
      "( 91 , 243 )\n"
     ]
    }
   ],
   "source": [
    "print(\"(\", percentile(prior, hypothesis, 5),\",\",percentile(prior, hypothesis, 95), \")\")"
   ]
  },
  {
   "cell_type": "markdown",
   "metadata": {},
   "source": [
    "Remember what these intervals mean? This just means our inferred true mean lies between 91 and 243 after our priors, data, and calculations. Still a large variance, but it is a calculation independent from our assumptions earlier in the term where our data needs to be in a normal distribution."
   ]
  },
  {
   "cell_type": "markdown",
   "metadata": {},
   "source": [
    "## Homework #1: More Train Companies?!\n",
    "\n",
    "In our first train example, we made the assumption that we have only one train company with N trains. But that isn't true to real life, as one railroad may be used by multiple train companies with different numbers of trains.\n",
    "\n",
    "Try to extend the current railroad example to multiple train companies; where you are equally likely to see any train operated by any company.\n",
    "\n",
    "\n",
    "Some arbitrary assumptions:\n",
    "\n",
    " * Hypothesis corresponds to the total number of trains that exist.\n",
    " * Data corresponds to the trains seen.\n",
    " * The distribution of train companies follows an inverse-power law distribution, or Zipf's distribution.\n",
    " * The distribution of trains for any given company is also an inverse-power law distribution."
   ]
  },
  {
   "cell_type": "code",
   "execution_count": 49,
   "metadata": {},
   "outputs": [
    {
     "name": "stdout",
     "output_type": "stream",
     "text": [
      "178.54735317971577\n"
     ]
    },
    {
     "data": {
      "image/png": "[encoded data removed]",
      "text/plain": [
       "<matplotlib.figure.Figure at 0x254f11c6898>"
      ]
     },
     "metadata": {},
     "output_type": "display_data"
    }
   ],
   "source": [
    "def likelihood_old(data, hypo):\n",
    "    if (data > hypo):\n",
    "        return 0\n",
    "    else:\n",
    "        return 1/hypo\n",
    "    \n",
    "def train_distribution(hypo):\n",
    "    pdf = []\n",
    "    \n",
    "    for h in hypo:\n",
    "        pdf.append(1/h)\n",
    "        \n",
    "    return pdf / np.sum(pdf)\n",
    "    \n",
    "def likelihood_generalized(data, hypo, train_dist, total):\n",
    "    if (data > hypo):\n",
    "        return 0\n",
    "    else:\n",
    "        return likelihood_old(data, hypo) * train_dist[hypo] * total\n",
    "\n",
    "    \n",
    "\n",
    "prior = initPriors(hypothesis)\n",
    "\n",
    "prior = update(hypothesis, prior, 60)\n",
    "\n",
    "mean = 0\n",
    "for x in range(len(hypothesis)):\n",
    "    mean += hypothesis[x] * prior[x]\n",
    "    \n",
    "    \n",
    "# plotting code\n",
    "\n",
    "width = 1/1.5\n",
    "plt.bar(hypothesis, prior, width)\n",
    "fig = plt.gcf()\n",
    "\n",
    "# print the found mean\n",
    "\n",
    "print(mean)\n"
   ]
  },
  {
   "cell_type": "markdown",
   "metadata": {},
   "source": [
    "References: \n",
    "    Think Bayes, Green Tea Press, Allen B. Downey"
   ]
  }
 ],
 "metadata": {
  "kernelspec": {
   "display_name": "Python 3",
   "language": "python",
   "name": "python3"
  },
  "language_info": {
   "codemirror_mode": {
    "name": "ipython",
    "version": 3
   },
   "file_extension": ".py",
   "mimetype": "text/x-python",
   "name": "python",
   "nbconvert_exporter": "python",
   "pygments_lexer": "ipython3",
   "version": "3.6.3"
  }
 },
 "nbformat": 4,
 "nbformat_minor": 2
}
