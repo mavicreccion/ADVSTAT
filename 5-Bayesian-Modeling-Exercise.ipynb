{
 "cells": [
  {
   "cell_type": "markdown",
   "metadata": {},
   "source": [
    "## Preserving Privacy on Sensitive Questions\n",
    "\n",
    "When taking surveys from people, the possibility of lying is not always taken into account. For example, think about surveying the rate of cheating in an exam. Simply asking \"Did you cheat in the last exam?\" is completely absurd, as no sane person would ever admit to cheating in an exam he just took, even if there were no consequences to his admittance.\n",
    "\n",
    "Below is a proposed algorithm for preserving privacy for sensitive questions, but first, let's create our testing data."
   ]
  },
  {
   "cell_type": "code",
   "execution_count": 92,
   "metadata": {
    "collapsed": true
   },
   "outputs": [],
   "source": [
    "### IMPORTS\n",
    "\n",
    "%matplotlib inline\n",
    "from scipy.stats import norm\n",
    "import matplotlib\n",
    "import matplotlib.pyplot as plt\n",
    "from scipy.stats import gaussian_kde\n",
    "import numpy as np\n",
    "\n",
    "#set font size of plots to 22\n",
    "matplotlib.rcParams.update({\"font.size\":22})"
   ]
  },
  {
   "cell_type": "code",
   "execution_count": 93,
   "metadata": {
    "collapsed": true
   },
   "outputs": [],
   "source": [
    "p = 0.1 # hard-coded probability of cheaters\n",
    "        # we do not know this, so we cannot use this as a variable in our calculations later\n",
    "        # we only use this to check our answers later on\n",
    "\n",
    "N = 100 # the number of students that took the test\n",
    "\n",
    "np.random.seed(1) # random seed; forces the result to be only one answer every time\n",
    "ground_truth = np.random.choice(range(2), size=N, p=[1-p, p])   # the ground truth, \n",
    "                                                                # 0 = 'no i did not cheat'\n",
    "                                                                # 1 = 'yes i cheated'"
   ]
  },
  {
   "cell_type": "markdown",
   "metadata": {},
   "source": [
    "## The Privacy Algorithm\n",
    "\n",
    "Instead of asking whether students have cheated on their last exam or not, we can instead use another algorithm that can at least try to ensure honest answers:\n",
    "\n",
    "> In the interview process for each student, the student flips a coin, hidden from the interviewer. The student agrees to answer honestly if the coin comes up heads. Otherwise, if the coin comes up tails, the student (secretly) flips the coin again, and answers \"Yes, I did cheat\" if the coin flip lands heads, and \"No, I did not cheat\", if the coin flip lands tails. This way, the interviewer does not know if a \"Yes\" was the result of a guilty plea, or a Heads on a second coin toss. Thus privacy is preserved and the researchers receive honest answers.\n",
    "\n",
    "This is called the Privacy Algorithm. The privacy of all the cheaters who answered 'Yes' truthfully is preserved since some Yes's are not confessions but instead randomness, and the other 'Yes' answers are just simply noise.\n",
    "\n",
    "Note: of course, this does not stop the cheater from lying. But at least it's better than having no data at all!"
   ]
  },
  {
   "cell_type": "code",
   "execution_count": 94,
   "metadata": {},
   "outputs": [],
   "source": [
    "# simulating the coinflips\n",
    "\n",
    "np.random.seed(1) # random seed; forces the result to be only one answer every time\n",
    "\n",
    "coinflip1 = np.random.choice(range(2), size=N)      # coinflip 1\n",
    "                                                    # if heads, answer honestly\n",
    "                                                    # if tails, flip again\n",
    "        \n",
    "coinflip2 = np.random.choice(range(2), size=N)      # coinflip 2\n",
    "                                                    # if heads, answer \"Yes\"\n",
    "                                                    # if tails, answer \"No\"\n",
    "        \n",
    "data = ground_truth*coinflip1 + (1-coinflip1)*coinflip2\n",
    "YES = 1\n",
    "NO = 0"
   ]
  },
  {
   "cell_type": "markdown",
   "metadata": {},
   "source": [
    "## You're up!\n",
    "\n",
    "Perform a Bayesian analysis to find the proportion of cheaters given this setup. Note that our data is deterministic, so the class' answers should be exactly the same.\n",
    "\n",
    "Be reminded that you are not allowed to use the variables we marked above for your calculations below."
   ]
  },
  {
   "cell_type": "markdown",
   "metadata": {},
   "source": [
    "## Hypothesis Modeling\n",
    "\n",
    "Model the problem hypothesis such that we have 101 different hypotheses, each corresponding to the proportion of cheaters in the experiment. (i.e. H[0] means there are 0 cheaters, H[50] means 50% of the respondents are cheaters, etc.)"
   ]
  },
  {
   "cell_type": "code",
   "execution_count": 101,
   "metadata": {},
   "outputs": [
    {
     "data": {
      "text/plain": [
       "0.0099009900990098994"
      ]
     },
     "execution_count": 101,
     "metadata": {},
     "output_type": "execute_result"
    }
   ],
   "source": [
    "N = 101\n",
    "hypothesis = range(0, N)\n",
    "\n",
    "# Our priors will be uniformly distributed:\n",
    "def initPriors(hypothesis):\n",
    "    pH = []\n",
    "    \n",
    "    # get pH\n",
    "    for h in hypothesis:\n",
    "        pH.append(1/len(hypothesis))\n",
    "    return pH     # set each prior to a uniform value\n",
    "\n",
    "prior = initPriors(hypothesis)\n",
    "np.mean(prior)"
   ]
  },
  {
   "cell_type": "markdown",
   "metadata": {},
   "source": [
    "## Likelihood Modeling\n",
    "\n",
    "What is the likelihood of the data?"
   ]
  },
  {
   "cell_type": "code",
   "execution_count": 96,
   "metadata": {
    "collapsed": true
   },
   "outputs": [],
   "source": [
    "def likelihood(data, hypothesis):\n",
    "    pDH = []\n",
    "    HEADS = 0.5\n",
    "    TAILS = 0.5\n",
    "    for h in hypothesis:\n",
    "        probYes = h/100\n",
    "        probNo = 1-h/100\n",
    "        if(data == YES):\n",
    "            pDH.append(HEADS*probYes + TAILS*HEADS)\n",
    "        else:\n",
    "            pDH.append(HEADS*probNo + TAILS*TAILS)\n",
    "    return pDH"
   ]
  },
  {
   "cell_type": "markdown",
   "metadata": {},
   "source": [
    "## Plot the Posterior\n",
    "\n",
    "What does the posterior probability distribution tell us?"
   ]
  },
  {
   "cell_type": "code",
   "execution_count": 97,
   "metadata": {
    "scrolled": false
   },
   "outputs": [
    {
     "data": {
      "image/png": "[encoded data removed]",
      "text/plain": [
       "<matplotlib.figure.Figure at 0xa4d0048898>"
      ]
     },
     "metadata": {},
     "output_type": "display_data"
    }
   ],
   "source": [
    "def update(hypo, prior, data):\n",
    "    # for each hypothesis, calculate P(H) * P(D|H), or the prior times the likelihood\n",
    "    \n",
    "    # get pHpDH\n",
    "    pHpDH = []\n",
    "    pDH = likelihood(data, hypo)\n",
    "    pSum = 0\n",
    "    for i in range(0,len(hypo)):\n",
    "        pHpDH.append(prior[i] * pDH[i])\n",
    "        pSum = pSum + pHpDH[i]\n",
    "        \n",
    "    posterior = []\n",
    "    for i in range(0,len(hypo)):\n",
    "        if(pSum == 0):\n",
    "            posterior.append(0)\n",
    "        else:\n",
    "            posterior.append(pHpDH[i]/pSum)\n",
    "        \n",
    "    return posterior\n",
    "\n",
    "for d in data:\n",
    "    prior = update(hypothesis, prior, d)\n",
    "\n",
    "# plotting code\n",
    "width = 1/1.5\n",
    "plt.bar(hypothesis, prior, width)\n",
    "# plt.bar(hypothesis, prior, alpha=0.85, color=\"#348ABD\")\n",
    "fig = plt.gcf()\n",
    "\n",
    "# plotting code, decomment when you're done"
   ]
  },
  {
   "cell_type": "code",
   "execution_count": 98,
   "metadata": {
    "collapsed": true
   },
   "outputs": [],
   "source": [
    "def percentile(prior, hypothesis, percent):\n",
    "    p = percent / 100\n",
    "    \n",
    "    total = 0\n",
    "    \n",
    "    for i in range(len(hypothesis)):\n",
    "        total += prior[i]\n",
    "        if (total >= p):\n",
    "            return hypothesis[i]"
   ]
  },
  {
   "cell_type": "code",
   "execution_count": 99,
   "metadata": {},
   "outputs": [
    {
     "name": "stdout",
     "output_type": "stream",
     "text": [
      "Mean 9.991833361650112\n",
      "1 23\n"
     ]
    }
   ],
   "source": [
    "# find the dataset mean\n",
    "mean = 0\n",
    "for i in range(0, len(prior)):\n",
    "    mean = mean + hypothesis[i] * prior[i]\n",
    "    \n",
    "print(\"Mean\", mean)\n",
    "print(percentile(prior, hypothesis, 5),percentile(prior, hypothesis, 95))"
   ]
  },
  {
   "cell_type": "markdown",
   "metadata": {},
   "source": [
    "## Answer the Questions available in Canvas.\n",
    "\n",
    "If you're done, you can use the rest of the time to prepare for your case study, or consult with the professor with plans for the case study. Please do not disturb the other students who are still answering the exercise.\n",
    "\n",
    "Of course, you're also free to play with the data on this workbook. Try changing p to a larger/smaller value, and see what happens to the Bayesian analysis. Maybe come back to it after a bit and refill the notebook. Some ideas in computational statistics come more easily once the coding part is trivial, and there's no other way to trivialize coding aside from practice."
   ]
  }
 ],
 "metadata": {
  "kernelspec": {
   "display_name": "Python 3",
   "language": "python",
   "name": "python3"
  },
  "language_info": {
   "codemirror_mode": {
    "name": "ipython",
    "version": 3
   },
   "file_extension": ".py",
   "mimetype": "text/x-python",
   "name": "python",
   "nbconvert_exporter": "python",
   "pygments_lexer": "ipython3",
   "version": "3.6.3"
  }
 },
 "nbformat": 4,
 "nbformat_minor": 2
}
