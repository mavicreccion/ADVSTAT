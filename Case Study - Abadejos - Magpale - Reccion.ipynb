{
 "cells": [
  {
   "cell_type": "code",
   "execution_count": 1,
   "metadata": {
    "collapsed": true
   },
   "outputs": [],
   "source": [
    "### IMPORTS\n",
    "\n",
    "%matplotlib inline\n",
    "from scipy.stats import norm\n",
    "import matplotlib\n",
    "import matplotlib.pyplot as plt\n",
    "from scipy.stats import gaussian_kde\n",
    "import numpy as np\n",
    "\n",
    "#set font size of plots to 22\n",
    "matplotlib.rcParams.update({\"font.size\":22})"
   ]
  },
  {
   "cell_type": "code",
   "execution_count": 2,
   "metadata": {
    "collapsed": true
   },
   "outputs": [],
   "source": [
    "N = 101\n",
    "hypothesis = range(0, N)\n",
    "ABSTAIN = 0\n",
    "TAPAT = 1\n",
    "SANTUGON = 2\n",
    "data0 = [ABSTAIN] * 118\n",
    "data1 = [TAPAT] * 132\n",
    "data2 = [SANTUGON] * 110\n",
    "data = data0 + data1 + data2\n",
    "\n",
    "biasTapat = 0\n",
    "biasSantugon = 0\n",
    "biasAbstain = 0"
   ]
  },
  {
   "cell_type": "code",
   "execution_count": 3,
   "metadata": {
    "collapsed": true
   },
   "outputs": [],
   "source": [
    "def computeForBias(data):\n",
    "    numTapat = 1\n",
    "    numSantugon = 1\n",
    "    numAbstain = 1\n",
    "    total = 3\n",
    "    \n",
    "    for d in data:\n",
    "        if(d == TAPAT):\n",
    "            numTapat = numTapat + 1\n",
    "        elif(d == SANTUGON):\n",
    "            numSantugon = numSantugon + 1\n",
    "        else:\n",
    "            numAbstain = numAbstain + 1\n",
    "        \n",
    "        total = total + 1\n",
    "        biasTapat = numTapat / total\n",
    "        biasSantugon = numSantugon / total\n",
    "        biasAbstain = numAbstain / total\n",
    "        \n",
    "    print(\"biasTapat = \", biasTapat)\n",
    "    print(\"biasSantugon = \", biasSantugon)\n",
    "    print(\"biasAbstain = \", biasAbstain)\n",
    "    \n",
    "    return biasTapat, biasSantugon, biasAbstain\n",
    "    "
   ]
  },
  {
   "cell_type": "code",
   "execution_count": 4,
   "metadata": {},
   "outputs": [
    {
     "data": {
      "text/plain": [
       "0.0099009900990098994"
      ]
     },
     "execution_count": 4,
     "metadata": {},
     "output_type": "execute_result"
    }
   ],
   "source": [
    "# Our priors will be uniformly distributed:\n",
    "def initPriors(hypothesis):\n",
    "    pH = []\n",
    "    \n",
    "    # get pH\n",
    "    for h in hypothesis:\n",
    "        pH.append(1/len(hypothesis))\n",
    "    return pH     # set each prior to a uniform value\n",
    "\n",
    "prior = initPriors(hypothesis)\n",
    "\n",
    "np.mean(prior)"
   ]
  },
  {
   "cell_type": "code",
   "execution_count": 5,
   "metadata": {
    "collapsed": true
   },
   "outputs": [],
   "source": [
    "def likelihood(data, hypothesis):\n",
    "#     print(\"biasTapat = \", biasTapat)\n",
    "#     print(\"biasSantugon = \", biasSantugon)\n",
    "#     print(\"biasAbstain = \", biasAbstain)\n",
    "    \n",
    "    pDH = []\n",
    "    for h in hypothesis:\n",
    "        if(data == TAPAT):\n",
    "            pDH.append(h/100 * biasTapat)\n",
    "        elif(data == SANTUGON):\n",
    "            pDH.append((1 - h/100)*biasSantugon)\n",
    "        else:\n",
    "            pDH.append((1 - h/100)*biasAbstain)\n",
    "    \n",
    "    return pDH"
   ]
  },
  {
   "cell_type": "code",
   "execution_count": 6,
   "metadata": {
    "collapsed": true
   },
   "outputs": [],
   "source": [
    "def update(hypo, prior, data):\n",
    "    # for each hypothesis, calculate P(H) * P(D|H), or the prior times the likelihood\n",
    "    \n",
    "    # get pHpDH\n",
    "    pHpDH = []\n",
    "    pDH = likelihood(data, hypo)\n",
    "    pSum = 0\n",
    "    for i in range(0,len(hypo)):\n",
    "        pHpDH.append(prior[i] * pDH[i])\n",
    "        pSum = pSum + pHpDH[i]\n",
    "#     print(pSum)    \n",
    "    posterior = []\n",
    "    for i in range(0,len(hypo)):\n",
    "        if(pSum == 0):\n",
    "            posterior.append(0)\n",
    "        else:\n",
    "            posterior.append(pHpDH[i]/pSum)\n",
    "        \n",
    "    return posterior"
   ]
  },
  {
   "cell_type": "code",
   "execution_count": 7,
   "metadata": {
    "scrolled": true
   },
   "outputs": [
    {
     "name": "stdout",
     "output_type": "stream",
     "text": [
      "biasTapat =  0.36639118457300274\n",
      "biasSantugon =  0.30578512396694213\n",
      "biasAbstain =  0.3278236914600551\n",
      "TAPAT =  36.74033149171273\n"
     ]
    },
    {
     "data": {
      "image/png": "[encoded data removed]",
      "text/plain": [
       "<matplotlib.figure.Figure at 0x199e50cd4a8>"
      ]
     },
     "metadata": {},
     "output_type": "display_data"
    }
   ],
   "source": [
    "biasTapat, biasSantugon, biasAbstain = computeForBias(data)\n",
    "    \n",
    "for d in data:\n",
    "    prior = update(hypothesis, prior, d)\n",
    "\n",
    "# find the dataset mean\n",
    "mean = 0\n",
    "for i in range(0, len(prior)):\n",
    "    mean = mean + hypothesis[i] * prior[i]\n",
    "    \n",
    "# plotting code\n",
    "width = 1/1.5\n",
    "plt.bar(hypothesis, prior, width)\n",
    "# plt.bar(hypothesis, prior, alpha=0.85, color=\"#348ABD\")\n",
    "fig = plt.gcf()\n",
    "\n",
    "# plotting code, decomment when you're done\n",
    "print(\"TAPAT = \", mean)"
   ]
  },
  {
   "cell_type": "code",
   "execution_count": null,
   "metadata": {
    "collapsed": true
   },
   "outputs": [],
   "source": []
  }
 ],
 "metadata": {
  "kernelspec": {
   "display_name": "Python 3",
   "language": "python",
   "name": "python3"
  },
  "language_info": {
   "codemirror_mode": {
    "name": "ipython",
    "version": 3
   },
   "file_extension": ".py",
   "mimetype": "text/x-python",
   "name": "python",
   "nbconvert_exporter": "python",
   "pygments_lexer": "ipython3",
   "version": "3.6.3"
  }
 },
 "nbformat": 4,
 "nbformat_minor": 2
}
