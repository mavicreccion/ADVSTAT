{
 "cells": [
  {
   "cell_type": "markdown",
   "metadata": {},
   "source": [
    "## The Unfair Coin\n",
    "\n",
    "When flipped a total of 50 times, a one-peso coin came up heads 28 times and tails 22 times. Does this data give evidence that the coin is more biased towards heads than tails?\n"
   ]
  },
  {
   "cell_type": "code",
   "execution_count": 1,
   "metadata": {
    "collapsed": true
   },
   "outputs": [],
   "source": [
    "### IMPORTS\n",
    "\n",
    "%matplotlib inline\n",
    "from scipy.stats import norm\n",
    "import matplotlib\n",
    "import matplotlib.pyplot as plt\n",
    "from scipy.stats import gaussian_kde\n",
    "import numpy as np\n",
    "import math\n",
    "\n",
    "#set font size of plots to 22\n",
    "matplotlib.rcParams.update({\"font.size\":22})"
   ]
  },
  {
   "cell_type": "code",
   "execution_count": 2,
   "metadata": {
    "collapsed": true
   },
   "outputs": [],
   "source": [
    "HEADS = 1\n",
    "TAILS = 0"
   ]
  },
  {
   "cell_type": "code",
   "execution_count": 3,
   "metadata": {
    "collapsed": true
   },
   "outputs": [],
   "source": [
    "def initPriors(hypothesis):\n",
    "    pH = []\n",
    "    \n",
    "    # get pH\n",
    "    for h in hypothesis:\n",
    "        pH.append(1/len(hypothesis))\n",
    "    return pH     # set each prior to a uniform value"
   ]
  },
  {
   "cell_type": "code",
   "execution_count": 4,
   "metadata": {
    "collapsed": true
   },
   "outputs": [],
   "source": [
    "def likelihood(data, hypothesis):\n",
    "    pDH = []\n",
    "    for h in hypothesis:\n",
    "        if(data == HEADS):\n",
    "            pDH.append(h/100)\n",
    "        else:\n",
    "            pDH.append(1-h/100)\n",
    "    return pDH"
   ]
  },
  {
   "cell_type": "code",
   "execution_count": 5,
   "metadata": {
    "collapsed": true
   },
   "outputs": [],
   "source": [
    "def update(hypo, prior, data):\n",
    "    # for each hypothesis, calculate P(H) * P(D|H), or the prior times the likelihood\n",
    "    \n",
    "    # get pHpDH\n",
    "    pHpDH = []\n",
    "    pDH = likelihood(data, hypo)\n",
    "    pSum = 0\n",
    "    for i in range(0,len(hypo)):\n",
    "        pHpDH.append(prior[i] * pDH[i])\n",
    "        pSum = pSum + pHpDH[i]\n",
    "        \n",
    "    posterior = []\n",
    "    for i in range(0,len(hypo)):\n",
    "        if(pSum == 0):\n",
    "            posterior.append(0)\n",
    "        else:\n",
    "            posterior.append(pHpDH[i]/pSum)\n",
    "        \n",
    "    return posterior"
   ]
  },
  {
   "cell_type": "code",
   "execution_count": 6,
   "metadata": {
    "collapsed": true
   },
   "outputs": [],
   "source": [
    "def percentile(prior, hypothesis, percent):\n",
    "    p = percent / 100\n",
    "    \n",
    "    total = 0\n",
    "    \n",
    "    for i in range(len(hypothesis)):\n",
    "        total += prior[i]\n",
    "        if (total >= p):\n",
    "            return hypothesis[i]"
   ]
  },
  {
   "cell_type": "code",
   "execution_count": 7,
   "metadata": {},
   "outputs": [
    {
     "name": "stdout",
     "output_type": "stream",
     "text": [
      "Mean 55.769230769230774\n",
      "42 69\n"
     ]
    },
    {
     "data": {
      "image/png": "[encoded data removed]",
      "text/plain": [
       "<matplotlib.figure.Figure at 0x25e72988320>"
      ]
     },
     "metadata": {},
     "output_type": "display_data"
    }
   ],
   "source": [
    "N = 101\n",
    "hypothesis = range(0, N)\n",
    "data_0 = [TAILS] * 22\n",
    "data_1 = [HEADS] * 28\n",
    "data = data_0 + data_1\n",
    "\n",
    "# initialize prior\n",
    "prior = initPriors(hypothesis)\n",
    "\n",
    "for d in data:\n",
    "    prior = update(hypothesis, prior, d)\n",
    "\n",
    "# plotting code\n",
    "width = 1/1.5\n",
    "plt.bar(hypothesis, prior, width)\n",
    "fig = plt.gcf()\n",
    "\n",
    "# find the dataset mean\n",
    "mean = 0\n",
    "for i in range(0, len(prior)):\n",
    "    mean = mean + hypothesis[i] * prior[i]\n",
    "    \n",
    "print(\"Mean\", mean)\n",
    "print(percentile(prior, hypothesis, 2.5),percentile(prior, hypothesis, 97.5))"
   ]
  },
  {
   "cell_type": "markdown",
   "metadata": {},
   "source": [
    "## The Unfair Coin, Part 2\n",
    "\n",
    "When flipped a total of 250 times, a one-peso coin came up heads 140 times and tails 110 times. Does this data give evidence that the coin is more biased towards heads than tails?"
   ]
  },
  {
   "cell_type": "code",
   "execution_count": 8,
   "metadata": {},
   "outputs": [
    {
     "name": "stdout",
     "output_type": "stream",
     "text": [
      "Mean 55.95238095238095\n",
      "50 62\n"
     ]
    },
    {
     "data": {
      "image/png": "[encoded data removed]",
      "text/plain": [
       "<matplotlib.figure.Figure at 0x25e72b232e8>"
      ]
     },
     "metadata": {},
     "output_type": "display_data"
    }
   ],
   "source": [
    "N = 101\n",
    "hypothesis = range(0, N)\n",
    "data_0 = [TAILS] * 110\n",
    "data_1 = [HEADS] * 140\n",
    "data = data_0 + data_1\n",
    "\n",
    "# initialize prior\n",
    "prior = initPriors(hypothesis)\n",
    "\n",
    "for d in data:\n",
    "    prior = update(hypothesis, prior, d)\n",
    "\n",
    "# plotting code\n",
    "width = 1/1.5\n",
    "plt.bar(hypothesis, prior, width)\n",
    "fig = plt.gcf()\n",
    "\n",
    "# find the dataset mean\n",
    "mean = 0\n",
    "for i in range(0, len(prior)):\n",
    "    mean = mean + hypothesis[i] * prior[i]\n",
    "    \n",
    "print(\"Mean\", mean)\n",
    "print(percentile(prior, hypothesis, 2.5),percentile(prior, hypothesis, 97.5))"
   ]
  },
  {
   "cell_type": "markdown",
   "metadata": {},
   "source": [
    "## The Unfair Coin and Better Priors\n",
    "\n",
    "What if we made our priors to prefer the 50% area?"
   ]
  },
  {
   "cell_type": "code",
   "execution_count": null,
   "metadata": {
    "collapsed": true
   },
   "outputs": [],
   "source": [
    "def initPriors2(hypothesis):\n",
    "    N = len(hypothesis) - 1\n",
    "    priors = []\n",
    "    \n",
    "    for h in hypothesis:\n",
    "        if(h < 50):\n",
    "            priors.append(h/100)\n",
    "        else:\n",
    "            priors.append((100-h)/100)\n",
    "        \n",
    "    return priors"
   ]
  },
  {
   "cell_type": "code",
   "execution_count": null,
   "metadata": {
    "scrolled": true
   },
   "outputs": [],
   "source": [
    "N = 101\n",
    "hypothesis = range(0, N)\n",
    "data_0 = [TAILS] * 50\n",
    "data_1 = [HEADS] * 50\n",
    "data = data_0 + data_1\n",
    "\n",
    "# initialize prior\n",
    "prior = initPriors(hypothesis)\n",
    "prior2 = initPriors2(hypothesis)\n",
    "\n",
    "# plotting code\n",
    "plt.plot(prior)\n",
    "plt.plot(prior2, color = 'g')\n",
    "plt.xlabel('hypothesis')\n",
    "plt.ylabel('Probability')\n",
    "plt.show()"
   ]
  },
  {
   "cell_type": "code",
   "execution_count": null,
   "metadata": {},
   "outputs": [],
   "source": [
    "for d in data:\n",
    "    prior2 = update(hypothesis, prior2, d)\n",
    "\n",
    "# plotting code\n",
    "width = 1/1.5\n",
    "plt.bar(hypothesis, prior2, width)\n",
    "fig = plt.gcf()\n",
    "\n",
    "# find the dataset mean\n",
    "mean = 0\n",
    "for i in range(0, len(prior)):\n",
    "    mean = mean + hypothesis[i] * prior[i]\n",
    "    \n",
    "print(\"Mean\", mean)\n",
    "print(percentile(prior, hypothesis, 2.5),percentile(prior, hypothesis, 97.5))"
   ]
  },
  {
   "cell_type": "markdown",
   "metadata": {},
   "source": [
    "## The Unfair Coin and the Unreliable Observer\n",
    "Suppose that instead of observing coin tosses directly, you measure the outcome using an instrument that is not always correct. Specifically, suppose there is a probability y that an actual heads is reported as tails, or actual tails reported\n",
    "as heads. Write a class that estimates the bias of a coin given a series of outcomes and the value of y.\n",
    "\n",
    "How does the spread of the posterior distribution depend on y?"
   ]
  },
  {
   "cell_type": "code",
   "execution_count": null,
   "metadata": {},
   "outputs": [],
   "source": [
    "def likelihoodWithBias(data, hypothesis, y):\n",
    "    pDH = []\n",
    "    for h in hypothesis:\n",
    "        if(data == HEADS):\n",
    "            pDH.append((h/100*(1-y)) + ((1-h/100)*y))\n",
    "        else:\n",
    "            pDH.append((1-h/100)*(1-y) + ((h/100)*y))\n",
    "    return pDH\n",
    "\n",
    "def updateWithBias(hypo, prior, data, y):\n",
    "    # for each hypothesis, calculate P(H) * P(D|H), or the prior times the likelihood\n",
    "    \n",
    "    # get pHpDH\n",
    "    pHpDH = []\n",
    "    pDH = likelihoodWithBias(data, hypo, y)\n",
    "    pSum = 0\n",
    "    for i in range(0,len(hypo)):\n",
    "        pHpDH.append(prior[i] * pDH[i])\n",
    "        pSum = pSum + pHpDH[i]\n",
    "        \n",
    "    posterior = []\n",
    "    for i in range(0,len(hypo)):\n",
    "        if(pSum == 0):\n",
    "            posterior.append(0)\n",
    "        else:\n",
    "            posterior.append(pHpDH[i]/pSum)\n",
    "        \n",
    "    return posterior\n",
    "\n",
    "def getBias(hypothesis, data, y):\n",
    "    \n",
    "    # initialize prior\n",
    "    prior = initPriors(hypothesis)\n",
    "#     prior2 = initPriors2(hypothesis)\n",
    "\n",
    "    for d in data:\n",
    "        prior = updateWithBias(hypothesis, prior, d, y)\n",
    "\n",
    "    # plotting code\n",
    "    width = 1/1.5\n",
    "    plt.bar(hypothesis, prior, width)\n",
    "    fig = plt.gcf()\n",
    "\n",
    "    # find the dataset mean\n",
    "    mean = 0\n",
    "    for i in range(0, len(prior)):\n",
    "        mean = mean + hypothesis[i] * prior[i]\n",
    "\n",
    "    print(\"Mean\", mean)\n",
    "    print(percentile(prior, hypothesis, 2.5),percentile(prior, hypothesis, 97.5))\n",
    "    \n",
    "    return mean\n",
    "\n",
    "N = 101\n",
    "numFlips = 500\n",
    "b = 0.37\n",
    "hypothesis = range(0, N)\n",
    "data = np.random.choice(2,numFlips,p=[1-b, b])\n",
    "y = 0.3\n",
    "\n",
    "for d in data:\n",
    "    x = np.random.randint(0,100)\n",
    "    if(x < y):\n",
    "        if(d == HEADS):\n",
    "            d = TAILS\n",
    "        else:\n",
    "            d = HEADS\n",
    "\n",
    "getBias(hypothesis, data, y)\n"
   ]
  },
  {
   "cell_type": "code",
   "execution_count": null,
   "metadata": {
    "collapsed": true
   },
   "outputs": [],
   "source": []
  },
  {
   "cell_type": "markdown",
   "metadata": {},
   "source": [
    "## Rolling the Gacha\n",
    "\n",
    "The mobile game Granblue Fantasy is a popular gacha-game in Japan. The gacha has three rarities, Common, Uncommon, and Rare, with different individual rates, with each rarity being progressively lower than the last.\n",
    "\n",
    "A certain player has just started playing and rolled the gacha 50 times. The gacha gave him four characters of the highest rarity. Give an interval estimate for the probability to roll a character of the highest rarity."
   ]
  },
  {
   "cell_type": "code",
   "execution_count": null,
   "metadata": {
    "collapsed": true
   },
   "outputs": [],
   "source": []
  },
  {
   "cell_type": "markdown",
   "metadata": {},
   "source": [
    "## More Rolls, More Data\n",
    "\n",
    "A year later, our player is now an avid player of the game, and has rolled the gacha 500 times. He was able to roll 27 characters of the highest rarity. Does this change the probability we have? How?"
   ]
  },
  {
   "cell_type": "code",
   "execution_count": null,
   "metadata": {
    "collapsed": true
   },
   "outputs": [],
   "source": []
  },
  {
   "cell_type": "markdown",
   "metadata": {},
   "source": [
    "## Developer Information, Update the Priors\n",
    "\n",
    "What if we had ‘better’ priors? The game developers announced the probability of rolling the highest rarity at 6%.\n",
    "\n",
    "How do we construct our priors?\n",
    "What does this do to our estimation for 50 rolls and 500 rolls?\n"
   ]
  },
  {
   "cell_type": "code",
   "execution_count": null,
   "metadata": {
    "collapsed": true
   },
   "outputs": [],
   "source": []
  },
  {
   "cell_type": "markdown",
   "metadata": {},
   "source": [
    "## A Wall of Slot Machines\n",
    "\n",
    "Suppose you are faced with N slot machines, each with an unknown probability of distributing a prize. Some slot machines are generous, others are not so. You can only play one slot machine at once, devise a strategy to maximize your winnings."
   ]
  },
  {
   "cell_type": "code",
   "execution_count": null,
   "metadata": {
    "collapsed": true
   },
   "outputs": [],
   "source": []
  }
 ],
 "metadata": {
  "kernelspec": {
   "display_name": "Python 3",
   "language": "python",
   "name": "python3"
  },
  "language_info": {
   "codemirror_mode": {
    "name": "ipython",
    "version": 3
   },
   "file_extension": ".py",
   "mimetype": "text/x-python",
   "name": "python",
   "nbconvert_exporter": "python",
   "pygments_lexer": "ipython3",
   "version": "3.6.3"
  }
 },
 "nbformat": 4,
 "nbformat_minor": 2
}
